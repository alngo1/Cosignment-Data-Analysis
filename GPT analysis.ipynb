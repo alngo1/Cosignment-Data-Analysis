{
 "cells": [
  {
   "cell_type": "markdown",
   "id": "a9db43d9",
   "metadata": {
    "vscode": {
     "languageId": "plaintext"
    }
   },
   "source": [
    "# Everdaze Sales Analysis #"
   ]
  },
  {
   "cell_type": "markdown",
   "id": "d605f188",
   "metadata": {},
   "source": [
    "## Planning ##\n",
    "> take the data from old sales trends and put it through gpt: \n",
    "> \n",
    "> what information are we giving gpt?\n",
    "> - spreadsheet for each vendor?\n",
    "> - or just counts and prices for categories\n",
    "> what do we want to get?\n",
    "> - price range for categories\n",
    "> - prices that sell well for categories\n",
    "> - most expensive sold items/categories\n",
    "> - categories in each range premium(80<), high(60-80), mid(30-50), low(<20)\n",
    ">   - how to calculate this?\n",
    "> - colors of items?\n",
    "> - types of fabric \n",
    "> - sales over time (ie what sold each week gpt did well on this)\n",
    "> - most sold categories\n",
    "> - age of items sold\n",
    "> - brands/types of items sold (i.e. abercrombie or AE or graphic tees)\n",
    "> what can we calculate on our own?\n",
    "> - total made\n",
    "> - average cost of goods\n",
    "> - total payout (0.2x every sale)"
   ]
  },
  {
   "cell_type": "markdown",
   "id": "2c268577",
   "metadata": {},
   "source": [
    "## Categorizing ##\n",
    "organize maker items at least\n",
    "\n",
    "future idea auto categorize: tfidf > minmaxscale price > random forrest"
   ]
  }
 ],
 "metadata": {
  "kernelspec": {
   "display_name": "everdaze_env",
   "language": "python",
   "name": "python3"
  },
  "language_info": {
   "name": "python",
   "version": "3.12.3"
  }
 },
 "nbformat": 4,
 "nbformat_minor": 5
}
